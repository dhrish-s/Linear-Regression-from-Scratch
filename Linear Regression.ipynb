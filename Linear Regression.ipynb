{
 "cells": [
  {
   "cell_type": "code",
   "execution_count": 33,
   "id": "c075a696",
   "metadata": {},
   "outputs": [],
   "source": [
    "\n",
    "import random\n",
    "studytime=[]\n",
    "score=[]\n",
    "for i in range(0,100):\n",
    "    n1=random.randint(1,20)\n",
    "    n2=random.randint(30,100)\n",
    "    studytime.append(n1)\n",
    "    score.append(n2)"
   ]
  },
  {
   "cell_type": "code",
   "execution_count": 34,
   "id": "bdfc5943",
   "metadata": {},
   "outputs": [],
   "source": [
    "import pandas as pd\n",
    "student_data=pd.DataFrame({'studytime':studytime,'score':score})"
   ]
  },
  {
   "cell_type": "code",
   "execution_count": 35,
   "id": "829e0ab3",
   "metadata": {},
   "outputs": [],
   "source": [
    "import matplotlib.pyplot as plt"
   ]
  },
  {
   "cell_type": "code",
   "execution_count": 36,
   "id": "377c29a6",
   "metadata": {},
   "outputs": [
    {
     "data": {
      "image/png": "[encoded data removed]",
      "text/plain": [
       "<Figure size 432x288 with 1 Axes>"
      ]
     },
     "metadata": {
      "needs_background": "light"
     },
     "output_type": "display_data"
    }
   ],
   "source": [
    "plt.scatter(student_data.studytime,student_data.score)\n",
    "plt.show()"
   ]
  },
  {
   "cell_type": "code",
   "execution_count": 42,
   "id": "d4c7dad7",
   "metadata": {},
   "outputs": [],
   "source": [
    "def loss_function(m,b,student_data):\n",
    "    total_error=0\n",
    "    for i in range(len(student_data)):\n",
    "        x=student_data.iloc[i].studytime\n",
    "        y=student_data.iloc[i].score\n",
    "        total_error+=(y-(m*x)+b)**2\n",
    "    return (total_error/2*len(student_data))\n",
    "   "
   ]
  },
  {
   "cell_type": "code",
   "execution_count": 43,
   "id": "75c0852f",
   "metadata": {},
   "outputs": [
    {
     "data": {
      "text/plain": [
       "21662637.5"
      ]
     },
     "execution_count": 43,
     "metadata": {},
     "output_type": "execute_result"
    }
   ],
   "source": [
    "loss=loss_function(0.5,1.5,student_data)\n",
    "loss"
   ]
  },
  {
   "cell_type": "code",
   "execution_count": 44,
   "id": "b51af79c",
   "metadata": {},
   "outputs": [],
   "source": [
    "def gradient_descent(m_now,b_now,student,L):\n",
    "    m_gradient=0\n",
    "    b_gradient=0\n",
    "    s1=0\n",
    "    s2=0\n",
    "    n=len(student)\n",
    "    for i in range(n):\n",
    "        x=student_data.iloc[i].studytime\n",
    "        y=student_data.iloc[i].score\n",
    "        s1 +=(y-(m_now + b_now * x))\n",
    "        s2 +=(y-(m_now + b_now * x))*x\n",
    "    m_gradient=s1*(-L/n)\n",
    "    b_gradient=s2*(-L/n)\n",
    "    m_now=m_now-m_gradient\n",
    "    b_now=b_now-b_gradient\n",
    "    return m_now,b_now"
   ]
  },
  {
   "cell_type": "code",
   "execution_count": 45,
   "id": "df090ca0",
   "metadata": {},
   "outputs": [
    {
     "name": "stdout",
     "output_type": "stream",
     "text": [
      "0.26039835421728974 2.483597203466189\n"
     ]
    }
   ],
   "source": [
    "m=0\n",
    "b=0\n",
    "L=0.0001\n",
    "epochs=50\n",
    "for i in range(epochs):\n",
    "    m,b=gradient_descent(m,b,student_data,L)\n",
    "print(m,b)"
   ]
  },
  {
   "cell_type": "code",
   "execution_count": 46,
   "id": "9988a980",
   "metadata": {},
   "outputs": [
    {
     "data": {
      "text/plain": [
       "[<matplotlib.lines.Line2D at 0x2101784c070>]"
      ]
     },
     "execution_count": 46,
     "metadata": {},
     "output_type": "execute_result"
    },
    {
     "data": {
      "image/png": "[encoded data removed]",
      "text/plain": [
       "<Figure size 432x288 with 1 Axes>"
      ]
     },
     "metadata": {
      "needs_background": "light"
     },
     "output_type": "display_data"
    }
   ],
   "source": [
    "plt.scatter(student_data.studytime,student_data.score,color='black')\n",
    "plt.plot(list(range(20,80)),[m+b*x for x in range(20,80)],color='blue')"
   ]
  },
  {
   "cell_type": "code",
   "execution_count": null,
   "id": "17d79fbe",
   "metadata": {},
   "outputs": [],
   "source": []
  }
 ],
 "metadata": {
  "kernelspec": {
   "display_name": "Python 3 (ipykernel)",
   "language": "python",
   "name": "python3"
  },
  "language_info": {
   "codemirror_mode": {
    "name": "ipython",
    "version": 3
   },
   "file_extension": ".py",
   "mimetype": "text/x-python",
   "name": "python",
   "nbconvert_exporter": "python",
   "pygments_lexer": "ipython3",
   "version": "3.9.12"
  }
 },
 "nbformat": 4,
 "nbformat_minor": 5
}
